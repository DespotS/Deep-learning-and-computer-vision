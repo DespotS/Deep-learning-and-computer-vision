{
 "cells": [
  {
   "cell_type": "markdown",
   "metadata": {},
   "source": [
    "# Semantic Segmentation - Mini Project Part 1\n",
    "\n",
    "## Introduction\n",
    "This notebook shall give you a brief recap of what you have learned in the lecture about image segmentation. <br>\n",
    "You will again perform image segmentation using the introduced methods in the lecture. But this time some parts are missing and you have to fill them. \n",
    "\n",
    "Instructions are given in <span style=\"color:blue\">blue</span> color."
   ]
  },
  {
   "cell_type": "code",
   "execution_count": 13,
   "metadata": {},
   "outputs": [
    {
     "name": "stdout",
     "output_type": "stream",
     "text": [
      "2.5.0+cpu\n",
      "cuda available: False\n"
     ]
    }
   ],
   "source": [
    "import torch\n",
    "from torch import nn\n",
    "from torch.nn import functional as F\n",
    "from torch.utils.data import Dataset, DataLoader\n",
    "from tqdm import tqdm\n",
    "from PIL import Image\n",
    "import numpy as np\n",
    "import random\n",
    "from matplotlib import pyplot as plt\n",
    "from torchvision import transforms\n",
    "from torchvision.transforms.functional import InterpolationMode\n",
    "import os\n",
    "import time\n",
    "print(torch.__version__)\n",
    "#check if cuda is available\n",
    "cuda_available = torch.cuda.is_available()\n",
    "print(f\"cuda available: {cuda_available}\")\n",
    "use_cuda = cuda_available\n",
    "\n",
    "# set random seed\n",
    "seed = 42\n",
    "torch.manual_seed(seed)\n",
    "np.random.seed(seed)\n",
    "torch.cuda.manual_seed(seed)\n",
    "torch.cuda.manual_seed_all(seed)\n",
    "torch.backends.cudnn.deterministic = True\n",
    "torch.backends.cudnn.benchmark = False\n",
    "\n",
    "# helper function to count number of parameters in a model\n",
    "def count_parameters(model):\n",
    "    params =  sum(p.numel() for p in model.parameters() if p.requires_grad)\n",
    "    m_params = params / 1e6\n",
    "    print(f\"Model has {m_params:.2f}M parameters\")\n",
    "    "
   ]
  },
  {
   "cell_type": "markdown",
   "metadata": {},
   "source": [
    "## Data Understanding and Preparation\n",
    "\n",
    "For this notebook you will again use the Carla dataset. The preprocessing are taken from the previous notebook."
   ]
  },
  {
   "cell_type": "code",
   "execution_count": 22,
   "metadata": {},
   "outputs": [],
   "source": [
    "carla_color_codes = {\n",
    "    \"Unlabeled\": (0, 0, 0),\n",
    "    \"Building\": (70, 70, 70),\n",
    "    \"Fence\": (100, 40, 40),\n",
    "    \"Other\": (55, 90, 80),\n",
    "    \"Pedestrian\": (220, 20, 60),\n",
    "    \"Pole\": (153, 153, 153),\n",
    "    \"RoadLine\": (157, 234, 50),\n",
    "    \"Road\": (128, 64, 128),\n",
    "    \"Sidewalk\": (244, 35, 232),\n",
    "    \"Vegetation\": (107, 142, 35),\n",
    "    \"Vehicle\": (0, 0, 142),\n",
    "    \"Wall\": (102, 102, 156),\n",
    "    \"TrafficSign\": (220, 220, 0),\n",
    "    \"Sky\": (70, 130, 180),\n",
    "    \"Ground\": (81, 0, 81),\n",
    "    \"Bridge\": (150, 100, 100),\n",
    "    \"RailTrack\": (230, 150, 140),\n",
    "    \"GuardRail\": (180, 165, 180),\n",
    "    \"TrafficLight\": (250, 170, 30),\n",
    "    \"Static\": (110, 190, 160),\n",
    "    \"Dynamic\": (170, 120, 50),\n",
    "    \"Water\": (45, 60, 150),\n",
    "    \"Terrain\": (145, 170, 100)\n",
    "}\n",
    "\n",
    "oht_carla_class_indices = {\n",
    "    0 : \"Building\",\n",
    "    1 : \"Fence\",\n",
    "    2 : \"Pedestrian\",\n",
    "    3 : \"Pole\", \n",
    "    4 : \"RoadLine\",\n",
    "    5 : \"Road\",\n",
    "    6 : \"Sidewalk\",\n",
    "    7 : \"Vegetation\",\n",
    "    8 : \"Vehicle\",\n",
    "    9 : \"Wall\",\n",
    "    10 : \"TrafficSign\",\n",
    "    11 : \"Sky\",\n",
    "    12 : \"GuardRail\",\n",
    "    13 : \"TrafficLight\",\n",
    "    14 : \"Terrain\",\n",
    "    15 : \"Unlabeled\"\n",
    "}\n",
    "\n",
    "def colorcode_segmentation(np_mask, color_codes, class_indices):\n",
    "    \"\"\"colorizes the segmentation mask using the carla color codes\"\"\"\n",
    "    height, width = np_mask.shape\n",
    "    rgb_mask = np.zeros((height, width, 3), dtype=int)\n",
    "    \n",
    "    for i in np.unique(np_mask):\n",
    "        rgb_mask[np_mask == i] = color_codes[class_indices[i]]\n",
    "    return rgb_mask"
   ]
  },
  {
   "cell_type": "code",
   "execution_count": 24,
   "metadata": {},
   "outputs": [],
   "source": [
    "class CarlaDataset(Dataset):\n",
    "    def __init__(self, path, image_transform=None, label_transform=None, is_train=True, limit=None):\n",
    "        self.path = path\n",
    "        self.limit = limit\n",
    "        self.is_train = is_train\n",
    "        self.image_transform = image_transform\n",
    "        self.label_transform = label_transform\n",
    "        # list of image, segmentation mask tuples\n",
    "        self.files = self._get_files()\n",
    "        self.data = []\n",
    "        for image, mask in tqdm(self.files):\n",
    "            self.data.append(self._process(image, mask))\n",
    "\n",
    "    def _get_files(self):\n",
    "        # Get all the image files in the directory\n",
    "        folder = 'train' if self.is_train else 'val'\n",
    "        image_path = os.path.join(self.path, folder, 'images')\n",
    "        data_files = []\n",
    "        for root, _, files in os.walk(image_path):\n",
    "            for i, file in enumerate(files):\n",
    "                if file.endswith('.png'):\n",
    "                    image_file = os.path.join(root, file)\n",
    "                    segmentation_mask = image_file.replace('images', 'segmentations')\n",
    "                    data_files.append((image_file, segmentation_mask))\n",
    "                    if self.limit and i >= self.limit:\n",
    "                        break\n",
    "        return data_files\n",
    "    \n",
    "    def _process(self, image, mask):\n",
    "        image = Image.open(image)\n",
    "        mask = Image.open(mask)\n",
    "        if self.image_transform:\n",
    "            image = self.image_transform(image)\n",
    "        if self.label_transform:\n",
    "            mask = self.label_transform(mask)\n",
    "        return image, mask\n",
    "\n",
    "    def __len__(self):\n",
    "       return len(self.files)\n",
    "    \n",
    "    def __getitem__(self, idx):\n",
    "        return self.data[idx]   "
   ]
  },
  {
   "cell_type": "code",
   "execution_count": 26,
   "metadata": {},
   "outputs": [
    {
     "name": "stdout",
     "output_type": "stream",
     "text": [
      "Mask shape: torch.Size([128, 128]), unique values: tensor([ 0,  1,  2,  3,  4,  5,  6,  7,  8,  9, 11, 14, 15]), dtype: torch.int64\n",
      "Image shape: torch.Size([3, 128, 128]), min: -2.0665297508239746, max: 2.1804091930389404, mean: 0.5448119044303894, std: 0.8206685781478882, dtype: torch.float32\n"
     ]
    }
   ],
   "source": [
    "SHAPE = (128, 128)\n",
    "# image transform to transform the image to tensor, resize and normalize\n",
    "image_transform = transforms.Compose([\n",
    "    transforms.Resize(SHAPE),\n",
    "    transforms.ToTensor(),\n",
    "    transforms.Normalize(mean=[0.485, 0.456, 0.406], std=[0.229, 0.224, 0.225])\n",
    "])\n",
    "\n",
    "# for transforming the mask to a tensor with the class labels we will create a custom transform\n",
    "class MaskToTensor(object):\n",
    "    def __init__(self, num_classes):\n",
    "        self.num_classes = num_classes\n",
    "        self.mask_values = np.array([0, 1, 2, 3, 4, 5, 6, 7, 8, 9, 10, 11, 12, 13, 14, 255])\n",
    "\n",
    "    def __call__(self, mask):\n",
    "        # Convert PIL Image to numpy array\n",
    "        segmentation_mask = np.array(mask)\n",
    "        # Initialize tensor of zeros with the desired shape\n",
    "        one_hot_mask = torch.zeros((segmentation_mask.shape[0], segmentation_mask.shape[1]))\n",
    "        \n",
    "        # Iterate over each unique value in the segmentation mask\n",
    "        for i, value in enumerate(self.mask_values):\n",
    "            # Create a binary mask where the value is equal to the unique value\n",
    "            binary_mask = (segmentation_mask == value)\n",
    "            # Assign this binary mask to the corresponding index in the tensor\n",
    "            one_hot_mask[binary_mask] = i\n",
    "        return one_hot_mask.to(torch.long)\n",
    "\n",
    "# label transform to transform the label to tensor and resize\n",
    "label_transform = transforms.Compose([\n",
    "    transforms.Resize(SHAPE, interpolation=InterpolationMode.NEAREST_EXACT),\n",
    "    MaskToTensor(16)\n",
    "])\n",
    "\n",
    "\n",
    "# test our transformation\n",
    "image = Image.open(\"data/Carla_Dataset/train/images/0000.png\")\n",
    "mask = Image.open(\"data/Carla_Dataset/train/segmentations/0000.png\")\n",
    "\n",
    "mask = label_transform(mask)\n",
    "print(f\"Mask shape: {mask.shape}, unique values: {torch.unique(mask)}, dtype: {mask.dtype}\")\n",
    "image = image_transform(image)\n",
    "print(f\"Image shape: {image.shape}, min: {image.min()}, max: {image.max()}, mean: {image.mean()}, std: {image.std()}, dtype: {image.dtype}\")\n",
    "\n",
    "\n"
   ]
  },
  {
   "cell_type": "markdown",
   "metadata": {},
   "source": [
    "Next the test and traing data are loaded and converted to data loaders."
   ]
  },
  {
   "cell_type": "code",
   "execution_count": 29,
   "metadata": {},
   "outputs": [
    {
     "name": "stderr",
     "output_type": "stream",
     "text": [
      "100%|█████████████████████████████████████████████████████████████████████████████| 1060/1060 [01:23<00:00, 12.67it/s]\n",
      "100%|███████████████████████████████████████████████████████████████████████████████| 424/424 [00:26<00:00, 15.71it/s]\n"
     ]
    }
   ],
   "source": [
    "BATCH_SIZE = 32\n",
    "# create the dataset\n",
    "train_dataset = CarlaDataset('data/Carla_Dataset', image_transform, label_transform, is_train=True, limit=None)\n",
    "train_loader = DataLoader(train_dataset, batch_size=BATCH_SIZE, shuffle=True)\n",
    "test_dataset = CarlaDataset('data/Carla_Dataset', image_transform, label_transform, is_train=False, limit=None)\n",
    "test_loader = DataLoader(test_dataset, batch_size=BATCH_SIZE, shuffle=False)"
   ]
  },
  {
   "cell_type": "markdown",
   "metadata": {},
   "source": [
    "\n",
    "Similar to classification tasks, there can be data imbalance in segmentation tasks. To analyze the data imbalance, you are supposed to calculate and visualize the class distribution of the training data. <br>\n",
    "<div style=\"color:blue\">\n",
    "Your task is to implement the function `calculate_class_distribution`. This function shall iterate over a given dataset and return a list containing the number of pixels for each class. Also, interpret your results.\n",
    "</div>\n"
   ]
  },
  {
   "cell_type": "code",
   "execution_count": 31,
   "metadata": {},
   "outputs": [
    {
     "data": {
      "image/png": "[encoded data removed]",
      "text/plain": [
       "<Figure size 1200x400 with 2 Axes>"
      ]
     },
     "metadata": {},
     "output_type": "display_data"
    }
   ],
   "source": [
    "# analyze the per pixel class distribution\n",
    "def calculate_class_distribution(dataset):\n",
    "    # Your solution goes here: Implement this function It should return a list of 16 elements where each element is the number of pixels of that class in the dataset\n",
    "    return [0] * 16 # dummy return value <- replace with your implementation\n",
    "\n",
    "train_class_distribution = calculate_class_distribution(train_dataset)\n",
    "test_class_distribution = calculate_class_distribution(test_dataset)\n",
    "\n",
    "# plot the class distribution\n",
    "plt.figure(figsize=(12, 4))\n",
    "plt.subplot(1, 2, 1)\n",
    "plt.bar(range(16), train_class_distribution)\n",
    "plt.title(\"Train Class Distribution\")\n",
    "plt.xlabel(\"Class\")\n",
    "plt.ylabel(\"Count\")\n",
    "plt.subplot(1, 2, 2)\n",
    "plt.bar(range(16), test_class_distribution)\n",
    "plt.title(\"Test Class Distribution\")\n",
    "plt.xlabel(\"Class\")\n",
    "plt.ylabel(\"Count\")\n",
    "plt.show()"
   ]
  },
  {
   "cell_type": "markdown",
   "metadata": {},
   "source": [
    "*Your interpretation goes here:*\n",
    "\n",
    "<br>\n",
    "<br>\n",
    "\n",
    "------------"
   ]
  },
  {
   "cell_type": "markdown",
   "metadata": {},
   "source": [
    "Another way to get an understanding are spatial heatmaps. The idea here is to visualize the spatial distribution of the classes in the images. <br>\n",
    "<div style=\"color:blue\">\n",
    "Your task is to implement the function `spatial_heatmaps`. This function shall iterate over a given dataset and return a tensor of shape (num_classes, height, width) containing the spatial distribution of the classes. The spatial distribution is summing up the masks of the images per class. \n",
    "</div>\n",
    "If you have implemented the function correctly, you should see a heatmap for each class. The heatmap for the class 'Road Line' e.g. looks like this: <br>\n",
    "<img src=\"img/spatial_distribution_heatmap_road.png\" alt=\"Spatial Distribution\" width=\"200\"/>\n"
   ]
  },
  {
   "cell_type": "code",
   "execution_count": 33,
   "metadata": {},
   "outputs": [
    {
     "data": {
      "image/png": "[encoded data removed]",
      "text/plain": [
       "<Figure size 1600x1600 with 16 Axes>"
      ]
     },
     "metadata": {},
     "output_type": "display_data"
    }
   ],
   "source": [
    "def spatial_heatmaps(dataset, nr_of_classes = 16):\n",
    "    heatmaps = np.zeros((nr_of_classes, SHAPE[0], SHAPE[1]))\n",
    "    # implement the function that calculates the spatial heatmaps\n",
    "    # first iterate over the dataset, then iterate over classes and accumulate the mask values\n",
    "    \n",
    "    return heatmaps\n",
    "\n",
    "train_heatmaps = spatial_heatmaps(train_dataset)\n",
    "\n",
    "# plot the spatial heatmaps\n",
    "plt.figure(figsize=(16, 16))\n",
    "for i in range(16):\n",
    "    plt.subplot(4, 4, i+1)\n",
    "    plt.imshow(train_heatmaps[i], cmap='hot')\n",
    "    plt.title(oht_carla_class_indices[i])\n",
    "    plt.axis('off')"
   ]
  },
  {
   "cell_type": "markdown",
   "metadata": {},
   "source": [
    "Next, we take the helper functions from the introduction notebook train and test the model."
   ]
  },
  {
   "cell_type": "code",
   "execution_count": null,
   "metadata": {},
   "outputs": [],
   "source": [
    "def train_one_epoch(model, optimizer, criterion, train_loader):\n",
    "    model.train()\n",
    "    train_loss = 0\n",
    "    for images, labels in train_loader:\n",
    "        images, labels = images.to(device), labels.to(device)\n",
    "        optimizer.zero_grad()\n",
    "        output = model(images)\n",
    "        loss = criterion(output, labels)\n",
    "        loss.backward()\n",
    "        optimizer.step()\n",
    "        train_loss += loss.item()\n",
    "    return train_loss / len(train_loader)\n",
    "\n",
    "def test(model, criterion, test_loader):\n",
    "    model.eval()\n",
    "    test_loss = 0\n",
    "    with torch.no_grad():\n",
    "        for images, labels in test_loader:\n",
    "            images, labels = images.to(device), labels.to(device)\n",
    "            output = model(images)\n",
    "            loss = criterion(output, labels)\n",
    "            test_loss += loss.item()\n",
    "    return test_loss / len(test_loader)\n",
    "            \n",
    "def show_img(image):\n",
    "    min_img = image.min()\n",
    "    max_img = image.max()\n",
    "    showimg = ((image-min_img)/(max_img-min_img)).permute(1, 2, 0)\n",
    "    return showimg\n",
    "       \n",
    "def visualize_segmentation(model, test_loader, device):\n",
    "    # visualize some images\n",
    "    model.eval()\n",
    "    images, labels = next(iter(test_loader))\n",
    "    images, labels = images.to(device), labels.to(device)\n",
    "    output = model(images)\n",
    "    output = output.permute(0, 2, 3, 1)\n",
    "    output = torch.sigmoid(output)\n",
    "    output = torch.argmax(output, dim=3)\n",
    "    output = output.cpu().numpy()\n",
    "    labels = labels.cpu().numpy()\n",
    "\n",
    "    # Increase the plot size\n",
    "    plt.figure(figsize=(12, 6))\n",
    "\n",
    "    for i in range(5):\n",
    "        plt.subplot(3, 5, i + 1)\n",
    "        plt.imshow(show_img(images[i]).cpu().numpy())\n",
    "        plt.title('Input Image')\n",
    "        plt.axis('off')  # Remove the axis\n",
    "        plt.subplot(3, 5, i + 6)\n",
    "        plt.imshow(colorcode_segmentation(output[i],carla_color_codes, oht_carla_class_indices))\n",
    "        plt.title('Predicted Mask')\n",
    "        plt.axis('off')  # Remove the axis\n",
    "        plt.subplot(3, 5, i + 11)\n",
    "        plt.imshow(colorcode_segmentation(labels[i],carla_color_codes, oht_carla_class_indices))\n",
    "        plt.title('Ground Truth')\n",
    "        plt.axis('off')  # Remove the axis\n",
    "    plt.show()\n"
   ]
  },
  {
   "cell_type": "markdown",
   "metadata": {},
   "source": [
    "## Modelling\n",
    "\n",
    "In this notebook, you will again use the simplified U-Net architecture for image segmentation. However, in the introduction notebook, we used the [Transposed Convolution](https://pytorch.org/docs/stable/generated/torch.nn.ConvTranspose2d.html) layer to upsample the feature maps. <br>\n",
    "In this notebook, you shall use the [Upsample](https://pytorch.org/docs/stable/generated/torch.nn.Upsample.html) operation to upsample the feature maps followed by a [2D Convolution](https://pytorch.org/docs/stable/generated/torch.nn.Conv2d.html) layer. <br>\n",
    "<div style=\"color:blue\">\n",
    "Therefore, your task is to implement the `UpLayerInterpolate` class which shall upsample the input tensor followed by a convolution operation.\n",
    "</div>"
   ]
  },
  {
   "cell_type": "code",
   "execution_count": null,
   "metadata": {},
   "outputs": [],
   "source": [
    "\n",
    "class DownLayer(nn.Module):\n",
    "    \"\"\"\n",
    "    Abstraction of a down layer in a CNN. A down layer consists of a convolutional layer followed by a ReLU activation function.\n",
    "    \"\"\"\n",
    "    def __init__(self, in_channels, out_channels):\n",
    "        super(DownLayer, self).__init__()\n",
    "        self.conv = nn.Conv2d(in_channels, out_channels, kernel_size=3, padding=1, stride=2)\n",
    "\n",
    "    def forward(self, x):\n",
    "        x = self.conv(x)\n",
    "        x = F.relu(x)\n",
    "        return x\n",
    "    \n",
    "class UpLayerTranspose(nn.Module):\n",
    "    \"\"\"\n",
    "    Abstraction of a up layer in a CNN. A up layer consists of a transposed convolutional layer followed by a ReLU activation function.\n",
    "    \"\"\"\n",
    "    def __init__(self, in_channels, out_channels):\n",
    "        super(UpLayerTranspose, self).__init__()\n",
    "        self.conv = nn.ConvTranspose2d(in_channels, out_channels, kernel_size=3, padding=1, output_padding=1, stride=2)\n",
    "\n",
    "    def forward(self, x):\n",
    "        x = self.conv(x)\n",
    "        x = F.relu(x)\n",
    "        return x\n",
    "    \n",
    "    \n",
    "class UpLayerInterpolate(nn.Module):\n",
    "    \"\"\"\n",
    "    Abstraction of a up layer in a CNN. A up layer consists of a nearest neighbor interpolation layer followed by a convolutional layer and ReLU activation function.\n",
    "    \"\"\"\n",
    "    def __init__(self, in_channels, out_channels):\n",
    "        super(UpLayerInterpolate, self).__init__()\n",
    "        # Intialize the upsample layer and the convolutional layer\n",
    "        #self.up = ... # solution goes here\n",
    "        #self.conv = ... # solution goes here\n",
    "\n",
    "        \n",
    "    def forward(self, x):\n",
    "        # Implement the forward pass which upsamples the input tensor x and applies the convolutional layer and ReLU activation function\n",
    "        # solution goes here\n",
    "        return x\n",
    "    \n",
    "# test the up layer\n",
    "up = UpLayerInterpolate(1, 1)\n",
    "data = torch.randn(1, 1, 16, 16)\n",
    "output = up(data)\n",
    "print(f\"Output shape: {output.shape}\") # If the output shape is torch.Size([1, 1, 32, 32]) then the implementation is correct"
   ]
  },
  {
   "cell_type": "markdown",
   "metadata": {},
   "source": [
    "If you have implemented the `UpLayerInterpolate` class correctly, you can use it to build the the network architecture. We use the same architecture as in the introduction notebook but replace the transposed convolution layers with the `UpLayerInterpolate` layers. <br>"
   ]
  },
  {
   "cell_type": "code",
   "execution_count": null,
   "metadata": {},
   "outputs": [],
   "source": [
    "\n",
    "class UnetCNN(nn.Module):\n",
    "    def __init__(self, input_dim=3, hidden_dims=[32, 64, 128], output_dim=16):\n",
    "        super(UnetCNN, self).__init__()\n",
    "        self.input_dim = input_dim\n",
    "        self.hidden_dims = hidden_dims\n",
    "        self.output_dim = output_dim\n",
    "        \n",
    "        # Encoder layers\n",
    "        self.encoder_hidden_layers = nn.ModuleList()\n",
    "        in_dim  = input_dim\n",
    "        for i in range(0, len(hidden_dims)):\n",
    "            self.encoder_hidden_layers.append(DownLayer(in_dim, hidden_dims[i]))\n",
    "            in_dim = hidden_dims[i]\n",
    "        \n",
    "        # Decoder layers\n",
    "        self.decoder_hidden_layers = nn.ModuleList()\n",
    "        in_dim = hidden_dims[-1]\n",
    "        for i in range(len(hidden_dims)-1, -1, -1):\n",
    "            self.decoder_hidden_layers.append(UpLayerInterpolate(in_dim * 2, hidden_dims[i - 1]))\n",
    "            in_dim = hidden_dims[i - 1]\n",
    "        self.output_layer = nn.Conv2d(in_dim, output_dim, kernel_size=3, padding=1)\n",
    "\n",
    "    def forward(self, x):\n",
    "        # list to store the output of the encoder layers\n",
    "        output_encoder = []\n",
    "        # forward pass trough the encoder\n",
    "        for hidden_layer in self.encoder_hidden_layers:\n",
    "            x = hidden_layer(x)\n",
    "            x = F.relu(x)\n",
    "            # store the output of the encoder layers\n",
    "            output_encoder.append(x)\n",
    "\n",
    "        # forward pass trough the decoder\n",
    "        for i, hidden_layer in enumerate(self.decoder_hidden_layers):\n",
    "            # concatenate the output of the encoder layers\n",
    "            x = torch.cat([x, output_encoder[-i - 1]], dim=1)\n",
    "            x = hidden_layer(x)\n",
    "            x = F.relu(x)\n",
    "        x = self.output_layer(x)\n",
    "        return x\n",
    "    \n",
    "# test if our model works for segmentation by keeping the original input dimensions\n",
    "model = UnetCNN()\n",
    "test_image = torch.rand(1, 3, 128, 128)\n",
    "output = model(test_image)\n",
    "print(f\"Input shape: {test_image.shape}, output shape: {output.shape}\")\n",
    "assert test_image.shape[2:] == output.shape[2:], \"Input and output dimensions should be the same\"\n"
   ]
  },
  {
   "cell_type": "markdown",
   "metadata": {},
   "source": [
    "## Training\n",
    "Next we initialize the network and define the loss function and optimizer."
   ]
  },
  {
   "cell_type": "code",
   "execution_count": null,
   "metadata": {},
   "outputs": [],
   "source": [
    "# create the network\n",
    "model = UnetCNN(hidden_dims=[16, 32, 64, 128])\n",
    "count_parameters(model)\n",
    "# create the optimizer\n",
    "optimizer = torch.optim.Adam(model.parameters(), lr=0.001)\n",
    "# create the loss function\n",
    "criterion = nn.CrossEntropyLoss()\n",
    "# set the device\n",
    "device = torch.device(\"cuda\" if use_cuda else \"cpu\")\n",
    "model.to(device)"
   ]
  },
  {
   "cell_type": "markdown",
   "metadata": {},
   "source": [
    "Now train the model."
   ]
  },
  {
   "cell_type": "code",
   "execution_count": null,
   "metadata": {},
   "outputs": [],
   "source": [
    "EPOCHS = 20\n",
    "train_losses = []\n",
    "test_losses = []\n",
    "start_time = time.time()\n",
    "pbar = tqdm(range(EPOCHS))\n",
    "for epoch in pbar:\n",
    "    train_loss = train_one_epoch(model, optimizer, criterion, train_loader)\n",
    "    test_loss = test(model, criterion, test_loader)\n",
    "    train_losses.append(train_loss)\n",
    "    test_losses.append(test_loss)\n",
    "    pbar.set_description(f'Epoch {epoch + 1}, Train Loss: {train_loss:.4f}, Test Loss: {test_loss:.4f}')\n",
    "end_time = time.time()\n",
    "print(f\"Training time in minutes: {(end_time - start_time) / 60:.2f} on {device} for {EPOCHS} epochs\")"
   ]
  },
  {
   "cell_type": "code",
   "execution_count": null,
   "metadata": {},
   "outputs": [],
   "source": [
    "# plot the train and test losses\n",
    "plt.plot(train_losses, label='train loss')\n",
    "plt.plot(test_losses, label='test loss')\n",
    "plt.xlabel('Epochs')\n",
    "plt.ylabel('Loss')\n",
    "plt.legend()\n",
    "plt.show()"
   ]
  },
  {
   "cell_type": "markdown",
   "metadata": {},
   "source": [
    "<div style=\"color:blue\">\n",
    "Interpret the loss curve. What can you say about the training process? \n",
    "</div>"
   ]
  },
  {
   "cell_type": "markdown",
   "metadata": {},
   "source": [
    "*Your Solution goes here:*\n",
    "\n",
    "\n"
   ]
  },
  {
   "cell_type": "markdown",
   "metadata": {},
   "source": [
    "## Evaluation\n",
    "Next, we evaluate the model on the test data. To do so, we again use the accuracy. But this time, we also use the Intersection over Union (IoU) metric. <br>\n",
    "\n",
    "<img src=\"img/iou_target.png\" alt=\"IoU\" style=\"width: 800px;\"/> <br>\n",
    "<img src=\"img/iou_example.png\" alt=\"IoU\" style=\"width: 800px;\"/> <br>\n",
    "[Source](https://www.jeremyjordan.me/evaluating-image-segmentation-models/) <br>\n",
    "\n",
    "\n",
    "\n",
    "The IoU metric is defined as the intersection of the predicted (A) and ground truth (B) mask divided by the union of the predicted and ground truth mask. <br>\n",
    "\n",
    "$IoU = \\frac{A \\cap B}{A \\cup B}$ <br>\n",
    "\n",
    "The intersection $(A \\cap B)$ is comprised of the pixels found in both the prediction mask and the ground truth mask, whereas the union $(A \\cup B)$ is simply comprised of all pixels found in either the prediction or target mask. <br>\n",
    "\n",
    "The IoU score is calculated for each class separately and then averaged over all classes to provide a global, mean IoU score of our semantic segmentation prediction. <br>\n",
    "\n",
    "<div style=\"color:blue\">\n",
    "Your task is to use the function <tt>iou</tt> which takes the predicted and target masks and calculates the mean IoU score. To do so, you first have to implement the <tt>intersection</tt> and <tt>union</tt> functions. <br>\n",
    "Afterwards, you can use the <tt>iou</tt> function to calculate the IoU score for the test data.\n",
    "</div>"
   ]
  },
  {
   "cell_type": "code",
   "execution_count": null,
   "metadata": {},
   "outputs": [],
   "source": [
    "def intersection(prediction, target, relevant_class=1):\n",
    "    \"\"\"\n",
    "    Calculate the intersection between the prediction and the target for a specific class\n",
    "    Args:\n",
    "    - prediction: the predicted segmentation mask of shape (N, H, W) where N is the batch size and H, W are the height and width of the mask\n",
    "    - target: the target segmentation mask of shape (N, H, W) where N is the batch size and H, W are the height and width of the mask\n",
    "    - relevant_class: the class index that we are interested in calculating the intersection for\n",
    "    \"\"\"\n",
    "    # Your solution goes here\n",
    "    # calculate the intersection\n",
    "    return \n",
    "\n",
    "def union(prediction, target, relevant_class=1):\n",
    "    \"\"\"\n",
    "    Calculate the union between the prediction and the target for a specific class\n",
    "    Args:\n",
    "    - prediction: the predicted segmentation mask of shape (N, H, W) where N is the batch size and H, W are the height and width of the mask\n",
    "    - target: the target segmentation mask of shape (N, H, W) where N is the batch size and H, W are the height and width of the mask\n",
    "    - relevant_class: the class index that we are interested in calculating the union for\n",
    "    \"\"\"\n",
    "    # Your solution goes here\n",
    "    # calculate the union\n",
    "    return \n",
    "\n",
    "\n",
    "def iou(prediction, target):\n",
    "    \"\"\"\n",
    "    Calculate the mean intersection over union for the prediction and target\n",
    "    Args:\n",
    "    - prediction: the predicted segmentation mask of shape (N, H, W) where N is the batch size and H, W are the height and width of the mask\n",
    "    - target: the target segmentation mask of shape (N, H, W) where N is the batch size and H, W are the height and width of the mask\n",
    "    \"\"\"\n",
    "    # calculate the number of classes\n",
    "    class_indices = torch.unique(target)\n",
    "    # initialize the list to store the iou for each class\n",
    "    iou_per_class = []\n",
    "    # iterate over each class\n",
    "    for i in class_indices:\n",
    "        # calculate the intersection for the class\n",
    "        inter = intersection(prediction, target, i)\n",
    "        # calculate the union for the class\n",
    "        uni = union(prediction, target, i)\n",
    "        # calculate the iou for the class\n",
    "        iou = inter / uni\n",
    "        iou_per_class.append(iou)\n",
    "    # calculate the mean iou\n",
    "    return torch.mean(torch.stack(iou_per_class)).item()    \n",
    "    \n",
    "# test the implementation \n",
    "prediction = torch.tensor([[[1, 2 , 1], [1, 1, 1], [2, 2, 2]]])\n",
    "target = torch.tensor([[[1, 1, 1], [1, 2, 1], [2, 1, 2]]])\n",
    "print(f\"IOU: {iou(prediction, target)}\") # If the IOU is ~0.4857 then the implementation is correct"
   ]
  },
  {
   "cell_type": "code",
   "execution_count": null,
   "metadata": {},
   "outputs": [],
   "source": [
    "def accuracy(output, target):\n",
    "    \"\"\"\n",
    "    Function to calculate the accuracy given the output and target\n",
    "    Args:\n",
    "    - output: the predicted segmentation mask of shape (N, H, W) where N is the batch size and H, W are the height and width of the mask\n",
    "    - target: the target segmentation mask of shape (N, H, W) where N is the batch size and H, W are the height and width of the mask\n",
    "    \"\"\"\n",
    "    accuracy = torch.sum(output == target) / (output.shape[0] * output.shape[1] * output.shape[2])\n",
    "    return accuracy.item()\n"
   ]
  },
  {
   "cell_type": "code",
   "execution_count": null,
   "metadata": {},
   "outputs": [],
   "source": [
    "def validate(model, test_loader, device):\n",
    "    model.eval()\n",
    "    accuracy_list = []\n",
    "    iou_list = []\n",
    "    with torch.no_grad():\n",
    "        for images, labels in tqdm(test_loader):\n",
    "            images, labels = images.to(device), labels.to(device)\n",
    "            output = model(images)\n",
    "            # argmax to get the class index\n",
    "            output = torch.argmax(output, dim=1)\n",
    "            accuracy_list.append(accuracy(output, labels))\n",
    "            iou_list.append(iou(output, labels))\n",
    "    mean_accuracy = sum(accuracy_list) / len(test_loader)\n",
    "    mean_iou = sum(iou_list) / len(test_loader)\n",
    "    return mean_accuracy, mean_iou\n",
    "\n",
    "\n",
    "m_accuracy, m_iou = validate(model, test_loader, device)\n",
    "print(f'Accuracy: {m_accuracy}, IoU: {m_iou}')"
   ]
  },
  {
   "cell_type": "code",
   "execution_count": null,
   "metadata": {},
   "outputs": [],
   "source": [
    "visualize_segmentation(model, test_loader, device)"
   ]
  },
  {
   "cell_type": "markdown",
   "metadata": {},
   "source": [
    "Once you have finished this notebook, you can move on the the second notebook where you will find the introduction to the segmentation mini project."
   ]
  },
  {
   "cell_type": "markdown",
   "metadata": {},
   "source": []
  }
 ],
 "metadata": {
  "kernelspec": {
   "display_name": "Python 3 (ipykernel)",
   "language": "python",
   "name": "python3"
  },
  "language_info": {
   "codemirror_mode": {
    "name": "ipython",
    "version": 3
   },
   "file_extension": ".py",
   "mimetype": "text/x-python",
   "name": "python",
   "nbconvert_exporter": "python",
   "pygments_lexer": "ipython3",
   "version": "3.10.15"
  }
 },
 "nbformat": 4,
 "nbformat_minor": 4
}
