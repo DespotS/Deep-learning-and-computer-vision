{
 "cells": [
  {
   "cell_type": "markdown",
   "metadata": {},
   "source": [
    "## Exercise on Machine Learning 101 - Part 2\n",
    "---\n",
    "Instructions are given in <span style=\"color:blue\">blue</span> color.\n",
    "\n"
   ]
  },
  {
   "cell_type": "markdown",
   "metadata": {},
   "source": [
    "##### Created by:\n",
    "##### Tomislav Tomov 6003618\n",
    "##### Ioana Stoicescu 6003487"
   ]
  },
  {
   "cell_type": "markdown",
   "metadata": {},
   "source": [
    "In this exercise, you will work with decision trees to (hopefully) further improve the classification results we got during the CRISP-DM lecture notes."
   ]
  },
  {
   "cell_type": "markdown",
   "metadata": {},
   "source": [
    "* <div style=\"color:blue\">This week's material included an article by Pedro Domingos in which he gave a brief insight into the domain of Machine Learning. One of the papers' sections mentioned the usage of so-called <b>model ensembles</b>. Go back to the article, find the three techniques used for ensemble methods, as stated by Domingos, and cite his description for each one here.</div>"
   ]
  },
  {
   "cell_type": "markdown",
   "metadata": {},
   "source": [
    "*Your solution goes here:*\n"
   ]
  },
  {
   "cell_type": "markdown",
   "metadata": {},
   "source": [
    "Remember that email you send to your social worker friend? The one where you told him that you possibly need more data to get improved results out of your model? Well, he replied and stated that, unfortunately, there isn't any more data he could provide to you.\n",
    "It seems there is nothing left you can do but to go back to the drawing board for the second iteration of your modeling phase.\n",
    "\n",
    "* <div style=\"color:blue\">The folder <code>/data</code>, next to this exercise, contains the file <code>Student_Survey.csv</code>. Read the data into a <code>DataFrame</code> and make sure to import any necessary libraries, too.</div>"
   ]
  },
  {
   "cell_type": "code",
   "execution_count": 305,
   "metadata": {},
   "outputs": [
    {
     "name": "stdout",
     "output_type": "stream",
     "text": [
      "  sex  age address famsize Pstatus     Mjob      Fjob  studytime  failures  \\\n",
      "0   F   18       U     GT3       A  at_home   teacher          2         0   \n",
      "1   F   17       U     GT3       T  at_home     other          2         0   \n",
      "2   F   15       U     LE3       T  at_home     other          2         3   \n",
      "3   F   15       U     GT3       T   health  services          3         0   \n",
      "4   F   16       U     GT3       T    other     other          2         0   \n",
      "\n",
      "  activities  ... famrel freetime goout Dalc  Walc  health  absences  G1  G2  \\\n",
      "0         no  ...      4        3     4    1     1       3         6   5   6   \n",
      "1         no  ...      5        3     3    1     1       3         4   5   5   \n",
      "2         no  ...      4        3     2    2     3       3        10   7   8   \n",
      "3        yes  ...      3        2     2    1     1       5         2  15  14   \n",
      "4         no  ...      4        3     2    1     2       5         4   6  10   \n",
      "\n",
      "   G3  \n",
      "0   6  \n",
      "1   6  \n",
      "2  10  \n",
      "3  15  \n",
      "4  10  \n",
      "\n",
      "[5 rows x 24 columns]\n"
     ]
    }
   ],
   "source": [
    "# Libraries:\n",
    "import numpy as np\n",
    "import pandas as pd\n",
    "\n",
    "data = pd.read_csv(\"./data/Student_Survey.csv\")\n",
    "\n",
    "# we can also show the amount of samples and columns\n",
    "print(data.head())"
   ]
  },
  {
   "cell_type": "markdown",
   "metadata": {},
   "source": [
    "The following is needed for **reproducibility** (see [here](https://www.mikulskibartosz.name/how-to-set-the-global-random_state-in-scikit-learn/), but also [here](https://scikit-learn.org/stable/faq.html#how-do-i-set-a-random-state-for-an-entire-execution)):"
   ]
  },
  {
   "cell_type": "code",
   "execution_count": 308,
   "metadata": {},
   "outputs": [],
   "source": [
    "np.random.seed(42)\n",
    "RSEED = 42\n",
    "np.random.seed(RSEED)\n"
   ]
  },
  {
   "cell_type": "code",
   "execution_count": 310,
   "metadata": {},
   "outputs": [
    {
     "name": "stdout",
     "output_type": "stream",
     "text": [
      "Without seed\n",
      "[10.49671415  9.8617357  10.64768854 11.52302986]\n",
      "[ 9.76584663  9.76586304 11.57921282 10.76743473]\n",
      "With the same seed\n",
      "[10.49671415  9.8617357  10.64768854 11.52302986]\n",
      "[10.49671415  9.8617357  10.64768854 11.52302986]\n",
      "Without seed\n",
      "[11.47402845  9.4843798   9.93211866 10.63907642]\n",
      "[ 8.443523   10.24290282 10.19171778  8.98428159]\n"
     ]
    }
   ],
   "source": [
    "import numpy as np\n",
    "from scipy.stats import norm\n",
    "\n",
    "print('Without seed')\n",
    "print(norm.rvs(10, size = 4))\n",
    "print(norm.rvs(10, size = 4))\n",
    "\n",
    "print('With the same seed')\n",
    "np.random.seed(42)\n",
    "print(norm.rvs(10, size = 4))\n",
    "np.random.seed(42) # reset the random seed back to 42\n",
    "print(norm.rvs(10, size = 4))\n",
    "\n",
    "print('Without seed')\n",
    "np.random.seed(None)\n",
    "print(norm.rvs(10, size = 4))\n",
    "print(norm.rvs(10, size = 4))"
   ]
  },
  {
   "cell_type": "markdown",
   "metadata": {},
   "source": [
    "* <div style=\"color:blue\">Remove the columns <code>G1</code>, <code>G2</code>, <code>G3</code>, and <code>Walc</code> from your <code>DataFrame</code>.</div>"
   ]
  },
  {
   "cell_type": "code",
   "execution_count": 313,
   "metadata": {},
   "outputs": [],
   "source": [
    "data.drop(['G1', 'G2', 'G3', 'Walc'], axis=1, inplace=True)\n"
   ]
  },
  {
   "cell_type": "markdown",
   "metadata": {},
   "source": [
    "* <div style=\"color:blue\">Replace all categorical values in your <code>DataFrame</code> with numerical data - using an appropriate method.</div>"
   ]
  },
  {
   "cell_type": "code",
   "execution_count": 316,
   "metadata": {},
   "outputs": [
    {
     "data": {
      "text/plain": [
       "[array(['F', 'M'], dtype=object),\n",
       " array(['R', 'U'], dtype=object),\n",
       " array(['GT3', 'LE3'], dtype=object),\n",
       " array(['A', 'T'], dtype=object),\n",
       " array(['at_home', 'health', 'other', 'services', 'teacher'], dtype=object),\n",
       " array(['at_home', 'health', 'other', 'services', 'teacher'], dtype=object),\n",
       " array(['no', 'yes'], dtype=object),\n",
       " array(['no', 'yes'], dtype=object),\n",
       " array(['no', 'yes'], dtype=object),\n",
       " array(['no', 'yes'], dtype=object),\n",
       " array(['no', 'yes'], dtype=object)]"
      ]
     },
     "execution_count": 316,
     "metadata": {},
     "output_type": "execute_result"
    }
   ],
   "source": [
    "from sklearn.preprocessing import OrdinalEncoder\n",
    "\n",
    "# Create an encoder instance\n",
    "encoder = OrdinalEncoder()\n",
    "\n",
    "# Create a list that holds columns with categorical data\n",
    "oe_columns = [\"sex\", \"address\", \"famsize\", \"Pstatus\", \"Mjob\", \"Fjob\", \"activities\", \"nursery\", \"higher\", \"internet\", \"romantic\"]\n",
    "\n",
    "# Retrieve the categories from those columns\n",
    "encoder.fit(data[oe_columns])\n",
    "\n",
    "# Map the categories to numerical data in the original data frame\n",
    "data[oe_columns] = encoder.transform(data[oe_columns])\n",
    "\n",
    "encoder.categories_\n",
    "#print(data.columns)"
   ]
  },
  {
   "cell_type": "code",
   "execution_count": 318,
   "metadata": {},
   "outputs": [
    {
     "data": {
      "text/plain": [
       "0    GT3\n",
       "1    GT3\n",
       "2    LE3\n",
       "3    GT3\n",
       "4    GT3\n",
       "Name: famsize, dtype: object"
      ]
     },
     "execution_count": 318,
     "metadata": {},
     "output_type": "execute_result"
    }
   ],
   "source": [
    "# Invert the transformation to retrieve the original categorical values from a column\n",
    "pd.DataFrame(encoder.inverse_transform(data[oe_columns]), columns=oe_columns).famsize.head()"
   ]
  },
  {
   "cell_type": "code",
   "execution_count": 320,
   "metadata": {},
   "outputs": [
    {
     "data": {
      "text/html": [
       "<div>\n",
       "<style scoped>\n",
       "    .dataframe tbody tr th:only-of-type {\n",
       "        vertical-align: middle;\n",
       "    }\n",
       "\n",
       "    .dataframe tbody tr th {\n",
       "        vertical-align: top;\n",
       "    }\n",
       "\n",
       "    .dataframe thead th {\n",
       "        text-align: right;\n",
       "    }\n",
       "</style>\n",
       "<table border=\"1\" class=\"dataframe\">\n",
       "  <thead>\n",
       "    <tr style=\"text-align: right;\">\n",
       "      <th></th>\n",
       "      <th>sex</th>\n",
       "      <th>age</th>\n",
       "      <th>address</th>\n",
       "      <th>famsize</th>\n",
       "      <th>Pstatus</th>\n",
       "      <th>Mjob</th>\n",
       "      <th>Fjob</th>\n",
       "      <th>studytime</th>\n",
       "      <th>failures</th>\n",
       "      <th>activities</th>\n",
       "      <th>nursery</th>\n",
       "      <th>higher</th>\n",
       "      <th>internet</th>\n",
       "      <th>romantic</th>\n",
       "      <th>famrel</th>\n",
       "      <th>freetime</th>\n",
       "      <th>goout</th>\n",
       "      <th>Dalc</th>\n",
       "      <th>health</th>\n",
       "      <th>absences</th>\n",
       "    </tr>\n",
       "  </thead>\n",
       "  <tbody>\n",
       "    <tr>\n",
       "      <th>0</th>\n",
       "      <td>0.0</td>\n",
       "      <td>18</td>\n",
       "      <td>1.0</td>\n",
       "      <td>0.0</td>\n",
       "      <td>0.0</td>\n",
       "      <td>0.0</td>\n",
       "      <td>4.0</td>\n",
       "      <td>2</td>\n",
       "      <td>0</td>\n",
       "      <td>0.0</td>\n",
       "      <td>1.0</td>\n",
       "      <td>1.0</td>\n",
       "      <td>0.0</td>\n",
       "      <td>0.0</td>\n",
       "      <td>4</td>\n",
       "      <td>3</td>\n",
       "      <td>4</td>\n",
       "      <td>1</td>\n",
       "      <td>3</td>\n",
       "      <td>6</td>\n",
       "    </tr>\n",
       "    <tr>\n",
       "      <th>1</th>\n",
       "      <td>0.0</td>\n",
       "      <td>17</td>\n",
       "      <td>1.0</td>\n",
       "      <td>0.0</td>\n",
       "      <td>1.0</td>\n",
       "      <td>0.0</td>\n",
       "      <td>2.0</td>\n",
       "      <td>2</td>\n",
       "      <td>0</td>\n",
       "      <td>0.0</td>\n",
       "      <td>0.0</td>\n",
       "      <td>1.0</td>\n",
       "      <td>1.0</td>\n",
       "      <td>0.0</td>\n",
       "      <td>5</td>\n",
       "      <td>3</td>\n",
       "      <td>3</td>\n",
       "      <td>1</td>\n",
       "      <td>3</td>\n",
       "      <td>4</td>\n",
       "    </tr>\n",
       "    <tr>\n",
       "      <th>2</th>\n",
       "      <td>0.0</td>\n",
       "      <td>15</td>\n",
       "      <td>1.0</td>\n",
       "      <td>1.0</td>\n",
       "      <td>1.0</td>\n",
       "      <td>0.0</td>\n",
       "      <td>2.0</td>\n",
       "      <td>2</td>\n",
       "      <td>3</td>\n",
       "      <td>0.0</td>\n",
       "      <td>1.0</td>\n",
       "      <td>1.0</td>\n",
       "      <td>1.0</td>\n",
       "      <td>0.0</td>\n",
       "      <td>4</td>\n",
       "      <td>3</td>\n",
       "      <td>2</td>\n",
       "      <td>2</td>\n",
       "      <td>3</td>\n",
       "      <td>10</td>\n",
       "    </tr>\n",
       "    <tr>\n",
       "      <th>3</th>\n",
       "      <td>0.0</td>\n",
       "      <td>15</td>\n",
       "      <td>1.0</td>\n",
       "      <td>0.0</td>\n",
       "      <td>1.0</td>\n",
       "      <td>1.0</td>\n",
       "      <td>3.0</td>\n",
       "      <td>3</td>\n",
       "      <td>0</td>\n",
       "      <td>1.0</td>\n",
       "      <td>1.0</td>\n",
       "      <td>1.0</td>\n",
       "      <td>1.0</td>\n",
       "      <td>1.0</td>\n",
       "      <td>3</td>\n",
       "      <td>2</td>\n",
       "      <td>2</td>\n",
       "      <td>1</td>\n",
       "      <td>5</td>\n",
       "      <td>2</td>\n",
       "    </tr>\n",
       "    <tr>\n",
       "      <th>4</th>\n",
       "      <td>0.0</td>\n",
       "      <td>16</td>\n",
       "      <td>1.0</td>\n",
       "      <td>0.0</td>\n",
       "      <td>1.0</td>\n",
       "      <td>2.0</td>\n",
       "      <td>2.0</td>\n",
       "      <td>2</td>\n",
       "      <td>0</td>\n",
       "      <td>0.0</td>\n",
       "      <td>1.0</td>\n",
       "      <td>1.0</td>\n",
       "      <td>0.0</td>\n",
       "      <td>0.0</td>\n",
       "      <td>4</td>\n",
       "      <td>3</td>\n",
       "      <td>2</td>\n",
       "      <td>1</td>\n",
       "      <td>5</td>\n",
       "      <td>4</td>\n",
       "    </tr>\n",
       "  </tbody>\n",
       "</table>\n",
       "</div>"
      ],
      "text/plain": [
       "   sex  age  address  famsize  Pstatus  Mjob  Fjob  studytime  failures  \\\n",
       "0  0.0   18      1.0      0.0      0.0   0.0   4.0          2         0   \n",
       "1  0.0   17      1.0      0.0      1.0   0.0   2.0          2         0   \n",
       "2  0.0   15      1.0      1.0      1.0   0.0   2.0          2         3   \n",
       "3  0.0   15      1.0      0.0      1.0   1.0   3.0          3         0   \n",
       "4  0.0   16      1.0      0.0      1.0   2.0   2.0          2         0   \n",
       "\n",
       "   activities  nursery  higher  internet  romantic  famrel  freetime  goout  \\\n",
       "0         0.0      1.0     1.0       0.0       0.0       4         3      4   \n",
       "1         0.0      0.0     1.0       1.0       0.0       5         3      3   \n",
       "2         0.0      1.0     1.0       1.0       0.0       4         3      2   \n",
       "3         1.0      1.0     1.0       1.0       1.0       3         2      2   \n",
       "4         0.0      1.0     1.0       0.0       0.0       4         3      2   \n",
       "\n",
       "   Dalc  health  absences  \n",
       "0     1       3         6  \n",
       "1     1       3         4  \n",
       "2     2       3        10  \n",
       "3     1       5         2  \n",
       "4     1       5         4  "
      ]
     },
     "execution_count": 320,
     "metadata": {},
     "output_type": "execute_result"
    }
   ],
   "source": [
    "data.head()"
   ]
  },
  {
   "cell_type": "markdown",
   "metadata": {},
   "source": [
    "One of the main issues present in our data is that the classes are highly **imbalanced**. This effect can be seen rather often when performing classification tasks and means that there is a different number of total samples for each present class. Usually, imbalanced classes make it much harder to successfully fit a model. In our case, this imbalance is quite drastic.\n",
    "* <div style=\"color:blue\">Confirm, both visually and numerically, that the classes in your <code>DataFrame</code> are imbalanced.</div>"
   ]
  },
  {
   "cell_type": "code",
   "execution_count": 323,
   "metadata": {},
   "outputs": [
    {
     "name": "stdout",
     "output_type": "stream",
     "text": [
      "Complete Data:\t[276  75  26   9   9]\n",
      "Training Data:\t[221  60  21   7   7]\n"
     ]
    },
    {
     "data": {
      "image/png": "[encoded data removed]",
      "text/plain": [
       "<Figure size 1500x300 with 3 Axes>"
      ]
     },
     "metadata": {},
     "output_type": "display_data"
    },
    {
     "name": "stdout",
     "output_type": "stream",
     "text": [
      "Test Data:\t[55 15  5  2  2]\n"
     ]
    }
   ],
   "source": [
    "from sklearn.model_selection import train_test_split\n",
    "import matplotlib.pyplot as plt\n",
    "%matplotlib inline\n",
    "\n",
    "# Construct a DataFrame that holds the feature names (excluding the label column)\n",
    "feature_names = data.drop(['Dalc'], axis=1).columns.values\n",
    "feature_names\n",
    "\n",
    "# Construct a NumPy array that holds the different classes\n",
    "class_names = data.Dalc.unique()\n",
    "class_names\n",
    "\n",
    "# Split your data into a training set and a test set (80/20)\n",
    "X_train, X_test, y_train, y_test = train_test_split(\n",
    "    data.drop(['Dalc'], axis=1), data.Dalc, test_size=0.2, random_state=RSEED, stratify=data.Dalc)\n",
    "\n",
    "fig = plt.figure(figsize=(15,3))\n",
    "# Complete Data\n",
    "ax1 = fig.add_subplot(131)\n",
    "ax1.barh(np.arange(1, 6)[::-1], np.array(data.Dalc.value_counts().sort_values()))\n",
    "ax1.title.set_text('Complete Dalc Ratios')\n",
    "ax1.set_xlabel('Frequency')\n",
    "ax1.set_ylabel('Class')\n",
    "print(f\"Complete Data:\\t{np.array(data.Dalc.value_counts())}\")\n",
    "# Training Data\n",
    "ax2 = fig.add_subplot(132)\n",
    "plt.barh(np.arange(1, 6)[::-1], np.array(y_train.value_counts().sort_values()))\n",
    "ax2.title.set_text('Training Dalc Ratios')\n",
    "ax2.set_xlabel('Frequency')\n",
    "ax2.set_ylabel('Class')\n",
    "print(f\"Training Data:\\t{np.array(y_train.value_counts())}\")\n",
    "# Test Data\n",
    "ax3 = fig.add_subplot(133)\n",
    "plt.barh(np.arange(1, 6)[::-1], np.array(y_test.value_counts().sort_values()))\n",
    "ax3.title.set_text('Test Dalc Ratios')\n",
    "ax3.set_xlabel('Frequency')\n",
    "ax3.set_ylabel('Class')\n",
    "plt.show()\n",
    "print(f\"Test Data:\\t{np.array(y_test.value_counts())}\")\n",
    "\n",
    "\n",
    "\n"
   ]
  },
  {
   "cell_type": "markdown",
   "metadata": {},
   "source": [
    "Despite this class imbalance, you should now train a decision tree classifier on the data as is.\n",
    "* <div style=\"color:blue\">As in the first part of the ML exercise, please define the feature matrix as <code>X</code> and the target variable as <code>y</code>. </div>\n",
    "* <div style=\"color:blue\">For model training, implement a <code>DecisionTreeClassifier</code> for which parameters have been tuned using cross-validated grid search.</div>\n",
    "* <div style=\"color:blue\">The parameters we are interested in are:</div>\n",
    "\n",
    "    * `max_depth` - using the values: [3, 4]\n",
    "    * `min_samples_split` - using the values: [2, 3, 4, 5]\n",
    "    * `min_samples_leaf` - using the values: [2, 3, 4, 5]\n",
    "* <div style=\"color:blue\">Explicitly set the <code>criterion</code> parameter of your classifier to <code>entropy</code>.</div>\n",
    "* <div style=\"color:blue\">Don't forget to eventually <b>fit</b> your model, using optimized parameters.</div>\n",
    "\n",
    "**Note**: This time around, we are not asking to create a separate test set to perform hold-out-validation. As our data is very sparse, and validation is already performed using cross-validation, this should be the right call."
   ]
  },
  {
   "cell_type": "markdown",
   "metadata": {},
   "source": [
    "* <div style=\"color:blue\">Print out the parameters for <code>max_depth</code>, <code>min_samples_split</code>, and <code>min_samples_leaf</code> for the best estimator found during grid search.</div>"
   ]
  },
  {
   "cell_type": "code",
   "execution_count": 327,
   "metadata": {},
   "outputs": [
    {
     "name": "stdout",
     "output_type": "stream",
     "text": [
      "Best max_depth: 3\n",
      "Best min_samples_leaf: 2\n",
      "Best min_samples_split: 2\n"
     ]
    }
   ],
   "source": [
    "from sklearn.model_selection import GridSearchCV\n",
    "\n",
    "# Create a dictionary that holds all values we want to test for the given parameter\n",
    "parameters = {'max_depth':[3,4], 'min_samples_split':[2,3,4,5], 'min_samples_leaf':[2,3,4,5]}\n",
    "\n",
    "# Perform grid search (with default score metric)\n",
    "gs = GridSearchCV(tree.DecisionTreeClassifier(random_state=RSEED, criterion='entropy'), \n",
    "                  parameters)\n",
    "# Fit the model, using optimized parameters\n",
    "dtree_opt = gs.fit(X_train, y_train)\n",
    "\n",
    "\n",
    "# Print the optimized parameters\n",
    "print('Best max_depth:', gs.best_estimator_.get_params()['max_depth'])\n",
    "print('Best min_samples_leaf:', gs.best_estimator_.get_params()['min_samples_leaf'])\n",
    "print('Best min_samples_split:', gs.best_estimator_.get_params()['min_samples_split'])\n",
    "\n"
   ]
  },
  {
   "cell_type": "markdown",
   "metadata": {},
   "source": [
    "* <div style=\"color:blue\">Get the accuracy score of your decision tree.</div>\n",
    "\n",
    "**Note**: If you have done everything correctly, your accuracy be around 70% at this point."
   ]
  },
  {
   "cell_type": "code",
   "execution_count": 329,
   "metadata": {},
   "outputs": [
    {
     "name": "stdout",
     "output_type": "stream",
     "text": [
      "Accuracy: 0.6867063492063492\n"
     ]
    },
    {
     "data": {
      "text/plain": [
       "0.6455696202531646"
      ]
     },
     "execution_count": 329,
     "metadata": {},
     "output_type": "execute_result"
    }
   ],
   "source": [
    "from sklearn.model_selection import cross_val_score\n",
    "\n",
    "# Evaluate the performance of the decision tree using cross validation on the training data\n",
    "scores = cross_val_score(dtree_opt, X_train, y_train, cv=5)\n",
    "print(f\"Accuracy: {scores.mean()}\")\n",
    "\n",
    "# Evaluate the performance of the decision tree by checking the accuracy score on the test data\n",
    "dtree_opt.score(X_test, y_test)"
   ]
  },
  {
   "cell_type": "markdown",
   "metadata": {},
   "source": [
    "* <div style=\"color:blue\">Display a scikit-learn <code>classification_report</code> of the best estimator on the whole dataset. How are the different classes represented?</div>\n",
    "\n",
    "**Note:** You can use the `print()` function to properly display the matrix inside a jupyter notebook. Also `zero_division=0` could help!"
   ]
  },
  {
   "cell_type": "code",
   "execution_count": 338,
   "metadata": {
    "scrolled": true
   },
   "outputs": [
    {
     "name": "stdout",
     "output_type": "stream",
     "text": [
      "Classification Report:\n",
      "              precision    recall  f1-score   support\n",
      "\n",
      "         0.0       0.71      0.87      0.78       208\n",
      "         1.0       0.80      0.60      0.69       187\n",
      "\n",
      "    accuracy                           0.74       395\n",
      "   macro avg       0.76      0.73      0.73       395\n",
      "weighted avg       0.75      0.74      0.74       395\n",
      "\n"
     ]
    }
   ],
   "source": [
    "# Your solution goes here:\n",
    "from sklearn.metrics import classification_report\n",
    "\n",
    "# Predict using the best estimator on the whole dataset\n",
    "y_pred = grid_search.best_estimator_.predict(X)\n",
    "\n",
    "# Display the classification report\n",
    "report = classification_report(y, y_pred, zero_division=0)\n",
    "print(\"Classification Report:\")\n",
    "print(report)\n"
   ]
  },
  {
   "cell_type": "markdown",
   "metadata": {},
   "source": [
    "Now we want to employ another technique to deal with data imbalance and train a more balanced and less biased model. As usual, depending on the data, the use-case, and your personal experience, there are many techniques you could try to implement in order to circumvent or mitigate imbalanced classes. [This website](https://machinelearningmastery.com/tactics-to-combat-imbalanced-classes-in-your-machine-learning-dataset/), for example, lists a number of reasonable suggestions to tackle this issue.\n",
    "\n",
    "In this exercise you should implement an **oversampling** approach. For this, you should install [imbalanced-learn](https://imbalanced-learn.org/stable/index.html) (eg. via `mamba install imbalanced-learn`) and use their [random oversampling class](https://imbalanced-learn.org/stable/over_sampling.html).\n",
    "* <div style=\"color:blue\">Instantiate a <code>RandomOverSampler</code> from <code>imbalanced-learn</code> and resample your data.</div>\n",
    "* <div style=\"color:blue\">Make sure that all classes are represented equally!</div>"
   ]
  },
  {
   "cell_type": "code",
   "execution_count": 350,
   "metadata": {},
   "outputs": [
    {
     "name": "stdout",
     "output_type": "stream",
     "text": [
      "Class distribution after resampling:\n",
      "sex\n",
      "0.0    208\n",
      "1.0    208\n",
      "Name: count, dtype: int64\n"
     ]
    }
   ],
   "source": [
    "# Your solution goes here:\n",
    "from imblearn.over_sampling import RandomOverSampler\n",
    "\n",
    "# Instantiate the RandomOverSampler\n",
    "ros = RandomOverSampler(random_state=42)\n",
    "\n",
    "# Resample the training data\n",
    "X_resampled, y_resampled = ros.fit_resample(X, y)\n",
    "\n",
    "# Confirm class distribution after resampling\n",
    "print(\"Class distribution after resampling:\")\n",
    "print(y_resampled.value_counts())"
   ]
  },
  {
   "cell_type": "markdown",
   "metadata": {},
   "source": [
    "* <div style=\"color:blue\">Now use the same modeling pipeline as before. Implement a <code>DecisionTreeClassifier</code> for which parameters have been tuned using cross-validated grid search. Use the same parameters as before</div>"
   ]
  },
  {
   "cell_type": "code",
   "execution_count": 357,
   "metadata": {},
   "outputs": [
    {
     "name": "stdout",
     "output_type": "stream",
     "text": [
      "Best Parameters: {'max_depth': 3, 'min_samples_leaf': 5, 'min_samples_split': 2}\n",
      "Best Cross-Validation Score: 0.673235800344234\n"
     ]
    }
   ],
   "source": [
    "# use the same grid search to find the best parameters\n",
    "grid_search_r = GridSearchCV(clf_resampled, param_grid_resampled, cv=5, scoring='accuracy')\n",
    "grid_search_r.fit(X_resampled, y_resampled)\n",
    "\n",
    "# Print params\n",
    "print(\"Best Parameters:\", grid_search_r.best_params_)\n",
    "print(\"Best Cross-Validation Score:\", grid_search_r.best_score_)\n"
   ]
  },
  {
   "cell_type": "markdown",
   "metadata": {},
   "source": [
    "* <div style=\"color:blue\">Finally, display a scikit-learn <code>classification_report</code> of the best estimator on the whole, original dataset.</div>\n",
    "* <div style=\"color:blue\">How has the classification changed? Please explain why this approach might be favorable for use-cases with rare and sensitive classes (think about <b>rare diseases</b> for example!)</div>\n"
   ]
  },
  {
   "cell_type": "code",
   "execution_count": 359,
   "metadata": {
    "scrolled": true
   },
   "outputs": [
    {
     "name": "stdout",
     "output_type": "stream",
     "text": [
      "Classification Report on the original dataset:\n",
      "              precision    recall  f1-score   support\n",
      "\n",
      "         0.0       0.69      0.86      0.77       208\n",
      "         1.0       0.79      0.57      0.66       187\n",
      "\n",
      "    accuracy                           0.72       395\n",
      "   macro avg       0.74      0.72      0.71       395\n",
      "weighted avg       0.74      0.72      0.72       395\n",
      "\n"
     ]
    }
   ],
   "source": [
    "from sklearn.metrics import classification_report\n",
    "\n",
    "# Generate predictions on the original dataset using the best estimator\n",
    "y_pred = grid_search_r.best_estimator_.predict(X)\n",
    "\n",
    "# Display the classification report\n",
    "print(\"Classification Report on the original dataset:\")\n",
    "print(classification_report(y, y_pred, zero_division=0))"
   ]
  },
  {
   "cell_type": "markdown",
   "metadata": {},
   "source": [
    "##### *although we can see the recall and f1-score are lower than in the first case, we can observe the precision increased after resampling;\n",
    "##### *the model can become too \"confident\" and miss some actual cases."
   ]
  }
 ],
 "metadata": {
  "kernelspec": {
   "display_name": "Python 3 (ipykernel)",
   "language": "python",
   "name": "python3"
  },
  "language_info": {
   "codemirror_mode": {
    "name": "ipython",
    "version": 3
   },
   "file_extension": ".py",
   "mimetype": "text/x-python",
   "name": "python",
   "nbconvert_exporter": "python",
   "pygments_lexer": "ipython3",
   "version": "3.10.15"
  }
 },
 "nbformat": 4,
 "nbformat_minor": 4
}
